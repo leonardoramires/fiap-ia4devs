{
 "cells": [
  {
   "cell_type": "code",
   "execution_count": 11,
   "metadata": {},
   "outputs": [],
   "source": [
    "# Comparando Resultado dos Algoritmos"
   ]
  },
  {
   "cell_type": "code",
   "execution_count": 12,
   "metadata": {},
   "outputs": [],
   "source": [
    "import pandas as pd\n",
    "\n",
    "# Carregar os dados dos arquivos CSV\n",
    "genetic_df = pd.read_csv(\"resultado.csv\")\n",
    "greedy_df = pd.read_csv(\"result_greedy_algorithm.csv\")\n",
    "linear_df = pd.read_csv(\"result_linear_programming.csv\")\n",
    "human_df = pd.read_csv(\"result_human_allocation.csv\")\n",
    "\n",
    "# Carregar os dados dos arquivos CSV de unassigned\n",
    "greedy_unassigned_df = pd.read_csv(\"unassigned_orders_greedy_algorithm.csv\")\n",
    "linear_unassigned_df = pd.read_csv(\"unassigned_orders_linear_programming.csv\")\n",
    "human_unassigned_df = pd.read_csv(\"unassigned_orders_humman_allocation.csv\")"
   ]
  },
  {
   "cell_type": "code",
   "execution_count": 13,
   "metadata": {},
   "outputs": [
    {
     "name": "stdout",
     "output_type": "stream",
     "text": [
      "<class 'pandas.core.frame.DataFrame'>\n",
      "RangeIndex: 75 entries, 0 to 74\n",
      "Data columns (total 17 columns):\n",
      " #   Column                            Non-Null Count  Dtype  \n",
      "---  ------                            --------------  -----  \n",
      " 0   dia                               75 non-null     int64  \n",
      " 1   id_operador                       75 non-null     object \n",
      " 2   id_ordem                          75 non-null     object \n",
      " 3   habilidades_ordem                 75 non-null     object \n",
      " 4   habilidades_operador              75 non-null     object \n",
      " 5   nivel_operador                    75 non-null     object \n",
      " 6   horas_estimadas                   75 non-null     int64  \n",
      " 7   horas_disponiveis                 75 non-null     int64  \n",
      " 8   prioridade                        75 non-null     object \n",
      " 9   inicio_esperado                   75 non-null     int64  \n",
      " 10  atraso                            75 non-null     int64  \n",
      " 11  compatibilidade_habilidade        75 non-null     float64\n",
      " 12  habilidades_nao_atendidas         34 non-null     object \n",
      " 13  compatibilidade_nivel_prioridade  75 non-null     object \n",
      " 14  hora_extra                        75 non-null     object \n",
      " 15  total_hora_extra                  75 non-null     int64  \n",
      " 16  status                            75 non-null     object \n",
      "dtypes: float64(1), int64(6), object(10)\n",
      "memory usage: 10.1+ KB\n"
     ]
    }
   ],
   "source": [
    "greedy_df.info()"
   ]
  },
  {
   "cell_type": "code",
   "execution_count": 14,
   "metadata": {},
   "outputs": [
    {
     "name": "stdout",
     "output_type": "stream",
     "text": [
      "<class 'pandas.core.frame.DataFrame'>\n",
      "RangeIndex: 100 entries, 0 to 99\n",
      "Data columns (total 5 columns):\n",
      " #   Column              Non-Null Count  Dtype \n",
      "---  ------              --------------  ----- \n",
      " 0   order_id            100 non-null    object\n",
      " 1   required_skills     100 non-null    object\n",
      " 2   estimated_hours     100 non-null    int64 \n",
      " 3   priority            100 non-null    object\n",
      " 4   expected_start_day  100 non-null    int64 \n",
      "dtypes: int64(2), object(3)\n",
      "memory usage: 4.0+ KB\n"
     ]
    }
   ],
   "source": [
    "greedy_unassigned_df.info()"
   ]
  },
  {
   "cell_type": "code",
   "execution_count": 15,
   "metadata": {},
   "outputs": [
    {
     "data": {
      "image/png": "[encoded data removed]",
      "text/plain": [
       "<Figure size 1000x600 with 1 Axes>"
      ]
     },
     "metadata": {},
     "output_type": "display_data"
    }
   ],
   "source": [
    "import matplotlib.pyplot as plt\n",
    "\n",
    "# Calcular a soma das horas trabalhadas em cada dataframe\n",
    "genetic_hours = genetic_df['horas_estimadas'].sum()\n",
    "greedy_hours = greedy_df['horas_estimadas'].sum()\n",
    "linear_hours = linear_df['horas_estimadas'].sum()\n",
    "human_hours = human_df['horas_estimadas'].sum()\n",
    "\n",
    "# Criar um dataframe para facilitar a plotagem\n",
    "hours_df = pd.DataFrame({\n",
    "    'Algoritmo': ['Genetic', 'Greedy', 'Linear', 'human'],\n",
    "    'Horas Trabalhadas': [genetic_hours, greedy_hours, linear_hours, human_hours]\n",
    "})\n",
    "\n",
    "# Plotar o gráfico de barras\n",
    "plt.figure(figsize=(10, 6))\n",
    "plt.bar(hours_df['Algoritmo'], hours_df['Horas Trabalhadas'], color=['#FFB6C1', '#FFDAB9', '#E6E6FA', '#ADD8E6'])\n",
    "plt.xlabel('Algoritmo')\n",
    "plt.ylabel('Horas Trabalhadas')\n",
    "plt.title('Distribuição de Horas Trabalhadas por Algoritmo')\n",
    "plt.show()"
   ]
  }
 ],
 "metadata": {
  "kernelspec": {
   "display_name": "agenv",
   "language": "python",
   "name": "python3"
  },
  "language_info": {
   "codemirror_mode": {
    "name": "ipython",
    "version": 3
   },
   "file_extension": ".py",
   "mimetype": "text/x-python",
   "name": "python",
   "nbconvert_exporter": "python",
   "pygments_lexer": "ipython3",
   "version": "3.12.4"
  }
 },
 "nbformat": 4,
 "nbformat_minor": 2
}
