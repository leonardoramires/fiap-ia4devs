{
  "nbformat": 4,
  "nbformat_minor": 0,
  "metadata": {
    "colab": {
      "provenance": []
    },
    "kernelspec": {
      "name": "python3",
      "display_name": "Python 3"
    },
    "language_info": {
      "name": "python"
    }
  },
  "cells": [
    {
      "cell_type": "code",
      "execution_count": 4,
      "metadata": {
        "id": "5LYuqyGPOkp5"
      },
      "outputs": [],
      "source": [
        "import random\n",
        "import numpy as np\n",
        "\n",
        "# Configuração do Problema\n",
        "# Ordens de Serviço (OS): (id, tipo, nível necessário, prazo)\n",
        "ordens_servico = [\n",
        "    (1, \"mecanica\", 3, 2),\n",
        "    (2, \"eletrica\", 2, 1),\n",
        "    (3, \"mecanica\", 2, 3),\n",
        "    (4, \"eletrica\", 1, 2),\n",
        "    (5, \"mecanica\", 1, 1),\n",
        "]\n",
        "\n",
        "# Operadores: (id, habilidades, nível máximo, disponibilidade em dias)\n",
        "operadores = [\n",
        "    (1, [\"mecanica\"], 3, 5),\n",
        "    (2, [\"eletrica\"], 2, 4),\n",
        "    (3, [\"mecanica\", \"eletrica\"], 2, 3),\n",
        "]"
      ]
    },
    {
      "cell_type": "code",
      "source": [
        "# Representação do Cromossomo\n",
        "def gerar_cromossomo():\n",
        "    return [random.choice(range(len(operadores))) for _ in ordens_servico]"
      ],
      "metadata": {
        "id": "Ej5vuIh_QmDD"
      },
      "execution_count": 5,
      "outputs": []
    },
    {
      "cell_type": "code",
      "source": [
        "# Função de Fitness\n",
        "def calcular_fitness(cromossomo):\n",
        "    fitness = 0\n",
        "\n",
        "    for os_index, operador_index in enumerate(cromossomo):\n",
        "        os_tipo, os_nivel, os_prazo = ordens_servico[os_index][1:]\n",
        "        op_habilidades, op_nivel_max, op_disponibilidade = operadores[operador_index][1:]\n",
        "\n",
        "        # Penalidade se o operador não tem a habilidade necessária\n",
        "        if os_tipo not in op_habilidades:\n",
        "            fitness -= 10\n",
        "\n",
        "        # Penalidade se o operador não atinge o nível necessário\n",
        "        if os_nivel > op_nivel_max:\n",
        "            fitness -= 5\n",
        "\n",
        "        # Penalidade se o operador não tem disponibilidade suficiente\n",
        "        if os_prazo > op_disponibilidade:\n",
        "            fitness -= 5\n",
        "\n",
        "        # Recompensa se tudo está correto\n",
        "        if os_tipo in op_habilidades and os_nivel <= op_nivel_max and os_prazo <= op_disponibilidade:\n",
        "            fitness += 10\n",
        "\n",
        "    return fitness\n"
      ],
      "metadata": {
        "id": "JTWXtSQAQrOl"
      },
      "execution_count": 6,
      "outputs": []
    },
    {
      "cell_type": "code",
      "source": [
        "\n",
        "# Operadores Genéticos\n",
        "def selecao_torneio(populacao, fitnesses, tamanho=3):\n",
        "    selecionados = random.sample(list(zip(populacao, fitnesses)), tamanho)\n",
        "    return max(selecionados, key=lambda x: x[1])[0]\n"
      ],
      "metadata": {
        "id": "Xso0WE92Qtax"
      },
      "execution_count": 7,
      "outputs": []
    },
    {
      "cell_type": "code",
      "source": [
        "def crossover(pai1, pai2):\n",
        "    ponto = random.randint(1, len(pai1) - 1)\n",
        "    filho1 = pai1[:ponto] + pai2[ponto:]\n",
        "    filho2 = pai2[:ponto] + pai1[ponto:]\n",
        "    return filho1, filho2\n",
        "\n"
      ],
      "metadata": {
        "id": "wg5WcEyhQ1yf"
      },
      "execution_count": 8,
      "outputs": []
    },
    {
      "cell_type": "code",
      "source": [
        "def mutacao(cromossomo, taxa_mutacao=0.1):\n",
        "    for i in range(len(cromossomo)):\n",
        "        if random.random() < taxa_mutacao:\n",
        "            cromossomo[i] = random.choice(range(len(operadores)))\n",
        "    return cromossomo\n",
        "\n"
      ],
      "metadata": {
        "id": "RbXwDJEzQ3vl"
      },
      "execution_count": 9,
      "outputs": []
    },
    {
      "cell_type": "code",
      "source": [
        "# Algoritmo Genético\n",
        "def algoritmo_genetico(geracoes=50, populacao_tamanho=20, taxa_mutacao=0.1):\n",
        "    # Gerar população inicial\n",
        "    populacao = [gerar_cromossomo() for _ in range(populacao_tamanho)]\n",
        "\n",
        "    for geracao in range(geracoes):\n",
        "        # Avaliar a população\n",
        "        fitnesses = [calcular_fitness(cromo) for cromo in populacao]\n",
        "\n",
        "        # Seleção e reprodução\n",
        "        nova_populacao = []\n",
        "        while len(nova_populacao) < populacao_tamanho:\n",
        "            pai1 = selecao_torneio(populacao, fitnesses)\n",
        "            pai2 = selecao_torneio(populacao, fitnesses)\n",
        "            filho1, filho2 = crossover(pai1, pai2)\n",
        "            nova_populacao.extend([mutacao(filho1, taxa_mutacao), mutacao(filho2, taxa_mutacao)])\n",
        "\n",
        "        populacao = nova_populacao[:populacao_tamanho]\n",
        "\n",
        "    # Obter a melhor solução\n",
        "    fitnesses = [calcular_fitness(cromo) for cromo in populacao]\n",
        "    melhor_indice = np.argmax(fitnesses)\n",
        "    melhor_solucao = populacao[melhor_indice]\n",
        "\n",
        "    return melhor_solucao, fitnesses[melhor_indice]"
      ],
      "metadata": {
        "id": "WkZSwwAFQ8c-"
      },
      "execution_count": 10,
      "outputs": []
    },
    {
      "cell_type": "code",
      "source": [
        "\n",
        "# Execução do Algoritmo\n",
        "melhor_solucao, melhor_fitness = algoritmo_genetico()\n",
        "print(\"Melhor Solução:\", melhor_solucao)\n",
        "print(\"Melhor Fitness:\", melhor_fitness)\n",
        "\n",
        "# Traduzir a solução para facilitar a leitura\n",
        "for os_index, operador_index in enumerate(melhor_solucao):\n",
        "    print(f\"OS {ordens_servico[os_index][0]} → Operador {operadores[operador_index][0]}\")"
      ],
      "metadata": {
        "colab": {
          "base_uri": "https://localhost:8080/"
        },
        "id": "mq2EvwI8RAj9",
        "outputId": "e4116018-73f3-4f8d-b478-128f72833f9c"
      },
      "execution_count": 11,
      "outputs": [
        {
          "output_type": "stream",
          "name": "stdout",
          "text": [
            "Melhor Solução: [0, 1, 2, 1, 0]\n",
            "Melhor Fitness: 50\n",
            "OS 1 → Operador 1\n",
            "OS 2 → Operador 2\n",
            "OS 3 → Operador 3\n",
            "OS 4 → Operador 2\n",
            "OS 5 → Operador 1\n"
          ]
        }
      ]
    },
    {
      "cell_type": "code",
      "source": [],
      "metadata": {
        "id": "QBkLezHYRExw"
      },
      "execution_count": null,
      "outputs": []
    }
  ]
}