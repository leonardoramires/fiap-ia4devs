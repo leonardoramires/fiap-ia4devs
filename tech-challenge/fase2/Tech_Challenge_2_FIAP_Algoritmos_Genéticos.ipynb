{
  "cells": [
    {
      "cell_type": "code",
      "execution_count": 16,
      "metadata": {
        "id": "5LYuqyGPOkp5"
      },
      "outputs": [],
      "source": [
        "import random\n",
        "import numpy as np\n",
        "\n",
        "# Configuração do Problema\n",
        "# Ordens de Serviço (OS): (id, tipo, nível necessário, prazo)\n",
        "ordens_servico = [\n",
        "    (1, \"mecanica\", 3, 2),\n",
        "    (2, \"eletrica\", 2, 1),\n",
        "    (3, \"mecanica\", 2, 3),\n",
        "    (4, \"eletrica\", 1, 2),\n",
        "    (5, \"mecanica\", 1, 1),\n",
        "]\n",
        "\n",
        "# Operadores: (id, habilidades, nível máximo, disponibilidade em dias)\n",
        "operadores = [\n",
        "    (1, [\"mecanica\"], 3, 5),\n",
        "    (2, [\"eletrica\"], 2, 4),\n",
        "    (3, [\"mecanica\", \"eletrica\"], 2, 3),\n",
        "]"
      ]
    },
    {
      "cell_type": "code",
      "execution_count": 17,
      "metadata": {
        "id": "Ej5vuIh_QmDD"
      },
      "outputs": [],
      "source": [
        "# Representação do Cromossomo\n",
        "def gerar_cromossomo():\n",
        "    return [random.choice(range(len(operadores))) for _ in ordens_servico]"
      ]
    },
    {
      "cell_type": "code",
      "execution_count": 18,
      "metadata": {
        "id": "JTWXtSQAQrOl"
      },
      "outputs": [],
      "source": [
        "# Função de Fitness\n",
        "def calcular_fitness(cromossomo):\n",
        "    fitness = 0\n",
        "\n",
        "    for os_index, operador_index in enumerate(cromossomo):\n",
        "        os_tipo, os_nivel, os_prazo = ordens_servico[os_index][1:]\n",
        "        op_habilidades, op_nivel_max, op_disponibilidade = operadores[operador_index][1:]\n",
        "\n",
        "        # Penalidade se o operador não tem a habilidade necessária\n",
        "        if os_tipo not in op_habilidades:\n",
        "            fitness -= 10\n",
        "\n",
        "        # Penalidade se o operador não atinge o nível necessário\n",
        "        if os_nivel > op_nivel_max:\n",
        "            fitness -= 5\n",
        "\n",
        "        # Penalidade se o operador não tem disponibilidade suficiente\n",
        "        if os_prazo > op_disponibilidade:\n",
        "            fitness -= 5\n",
        "\n",
        "        # Recompensa se tudo está correto\n",
        "        if os_tipo in op_habilidades and os_nivel <= op_nivel_max and os_prazo <= op_disponibilidade:\n",
        "            fitness += 10\n",
        "\n",
        "    return fitness\n"
      ]
    },
    {
      "cell_type": "code",
      "execution_count": 19,
      "metadata": {
        "id": "Xso0WE92Qtax"
      },
      "outputs": [],
      "source": [
        "\n",
        "# Operadores Genéticos\n",
        "def selecao_torneio(populacao, fitnesses, tamanho=3):\n",
        "    selecionados = random.sample(list(zip(populacao, fitnesses)), tamanho)\n",
        "    return max(selecionados, key=lambda x: x[1])[0]\n"
      ]
    },
    {
      "cell_type": "code",
      "execution_count": 20,
      "metadata": {
        "id": "wg5WcEyhQ1yf"
      },
      "outputs": [],
      "source": [
        "def crossover(pai1, pai2):\n",
        "    ponto = random.randint(1, len(pai1) - 1)\n",
        "    filho1 = pai1[:ponto] + pai2[ponto:]\n",
        "    filho2 = pai2[:ponto] + pai1[ponto:]\n",
        "    return filho1, filho2\n",
        "\n"
      ]
    },
    {
      "cell_type": "code",
      "execution_count": 21,
      "metadata": {
        "id": "RbXwDJEzQ3vl"
      },
      "outputs": [],
      "source": [
        "def mutacao(cromossomo, taxa_mutacao=0.1):\n",
        "    for i in range(len(cromossomo)):\n",
        "        if random.random() < taxa_mutacao:\n",
        "            cromossomo[i] = random.choice(range(len(operadores)))\n",
        "    return cromossomo\n",
        "\n"
      ]
    },
    {
      "cell_type": "code",
      "execution_count": 22,
      "metadata": {
        "id": "WkZSwwAFQ8c-"
      },
      "outputs": [],
      "source": [
        "# Algoritmo Genético\n",
        "def algoritmo_genetico(geracoes=50, populacao_tamanho=20, taxa_mutacao=0.1):\n",
        "    print(f\"Iniciando algoritmo genético com {geracoes} gerações\")\n",
        "    melhor_fitness_historico = []\n",
        "    melhor_fitness_global = float('-inf') \n",
        "    \n",
        "    # Gerar população inicial\n",
        "    populacao = [gerar_cromossomo() for _ in range(populacao_tamanho)]\n",
        "\n",
        "    for geracao in range(geracoes):\n",
        "        # Avaliar a população\n",
        "        fitnesses = [calcular_fitness(cromo) for cromo in populacao]\n",
        "        melhor_fitness_atual = max(fitnesses)\n",
        "        melhor_fitness_historico.append(melhor_fitness_atual)\n",
        "\n",
        "        if melhor_fitness_atual > melhor_fitness_global:\n",
        "            melhor_fitness_global = melhor_fitness_atual\n",
        "            print(f\"Geração {geracao}: Melhor fitness = {melhor_fitness_atual}\")\n",
        "    \n",
        "        # Seleção e reprodução\n",
        "        nova_populacao = []\n",
        "        while len(nova_populacao) < populacao_tamanho:\n",
        "            pai1 = selecao_torneio(populacao, fitnesses)\n",
        "            pai2 = selecao_torneio(populacao, fitnesses)\n",
        "            filho1, filho2 = crossover(pai1, pai2)\n",
        "            nova_populacao.extend([mutacao(filho1, taxa_mutacao), mutacao(filho2, taxa_mutacao)])\n",
        "\n",
        "        populacao = nova_populacao[:populacao_tamanho]\n",
        "\n",
        "    # Obter a melhor solução\n",
        "    fitnesses = [calcular_fitness(cromo) for cromo in populacao]\n",
        "    melhor_indice = np.argmax(fitnesses)\n",
        "    melhor_solucao = populacao[melhor_indice]\n",
        "\n",
        "    return melhor_solucao, fitnesses[melhor_indice]"
      ]
    },
    {
      "cell_type": "code",
      "execution_count": 23,
      "metadata": {
        "colab": {
          "base_uri": "https://localhost:8080/"
        },
        "id": "mq2EvwI8RAj9",
        "outputId": "e4116018-73f3-4f8d-b478-128f72833f9c"
      },
      "outputs": [
        {
          "name": "stdout",
          "output_type": "stream",
          "text": [
            "Iniciando algoritmo genético com 50 gerações\n",
            "Geração 0: Melhor fitness = 50\n",
            "\n",
            "=== Resultado da Otimização ===\n",
            "Melhor Fitness: 50\n",
            "Melhor Solucao: [0, 2, 0, 1, 0]\n",
            "\n",
            "Designação de tarefas:\n",
            "--------------------------------------------------------------------------------------------------------------\n",
            "OS  1 (mecanica, nível 3, prazo 2) → Operador 1 (nível máx: 3 - habilidades: mecanica - disp.: 5)\n",
            "OS  2 (eletrica, nível 2, prazo 1) → Operador 3 (nível máx: 2 - habilidades: mecanica, eletrica - disp.: 3)\n",
            "OS  3 (mecanica, nível 2, prazo 3) → Operador 1 (nível máx: 3 - habilidades: mecanica - disp.: 5)\n",
            "OS  4 (eletrica, nível 1, prazo 2) → Operador 2 (nível máx: 2 - habilidades: eletrica - disp.: 4)\n",
            "OS  5 (mecanica, nível 1, prazo 1) → Operador 1 (nível máx: 3 - habilidades: mecanica - disp.: 5)\n",
            "--------------------------------------------------------------------------------------------------------------\n"
          ]
        }
      ],
      "source": [
        "\n",
        "def imprimir_resultado(solucao, fitness):\n",
        "    print(\"\\n=== Resultado da Otimização ===\")\n",
        "    print(f\"Melhor Fitness: {fitness}\")\n",
        "    print(f\"Melhor Solucao: {solucao}\")\n",
        "    print(\"\\nDesignação de tarefas:\")\n",
        "\n",
        "    print(\"-\" * 110)\n",
        "    for os_index, operador_index in enumerate(solucao):\n",
        "        os = ordens_servico[os_index]\n",
        "        op = operadores[operador_index]\n",
        "        # Ordens de Serviço (OS): (id, tipo, nível necessário, prazo)\n",
        "        print(f\"OS {os[0]:2d} ({os[1]:8s}, nível {os[2]}, prazo{os[3]:2d}) → Operador {op[0]} \"\n",
        "              f\"(nível máx: {op[2]} - habilidades: {', '.join(op[1])} - disp.: {op[3]})\")\n",
        "    print(\"-\" * 110)\n",
        "\n",
        "# Execução do Algoritmo\n",
        "melhor_solucao, melhor_fitness = algoritmo_genetico()\n",
        "imprimir_resultado(melhor_solucao, melhor_fitness)"
      ]
    },
    {
      "cell_type": "code",
      "execution_count": null,
      "metadata": {
        "id": "QBkLezHYRExw"
      },
      "outputs": [],
      "source": []
    }
  ],
  "metadata": {
    "colab": {
      "provenance": []
    },
    "kernelspec": {
      "display_name": "Python 3",
      "name": "python3"
    },
    "language_info": {
      "codemirror_mode": {
        "name": "ipython",
        "version": 3
      },
      "file_extension": ".py",
      "mimetype": "text/x-python",
      "name": "python",
      "nbconvert_exporter": "python",
      "pygments_lexer": "ipython3",
      "version": "3.12.6"
    }
  },
  "nbformat": 4,
  "nbformat_minor": 0
}
